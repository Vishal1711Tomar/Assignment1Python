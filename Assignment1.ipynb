{
 "cells": [
  {
   "cell_type": "code",
   "execution_count": 1,
   "id": "370b41cb-94b8-4a07-94ab-947d8ce6a808",
   "metadata": {},
   "outputs": [
    {
     "name": "stdin",
     "output_type": "stream",
     "text": [
      "Enter Your First Number :  5\n",
      "Enter Your Second Number :  10\n"
     ]
    },
    {
     "name": "stdout",
     "output_type": "stream",
     "text": [
      "Addition 15\n",
      "Subtraction -5\n",
      "Multiplication 50\n",
      "Division 0.5\n"
     ]
    }
   ],
   "source": [
    "n = int(input(\"Enter Your First Number : \"))\n",
    "m = int(input (\"Enter Your Second Number : \"))\n",
    "print(\"Addition\" , (n+m))\n",
    "print(\"Subtraction\" , (n-m))\n",
    "print(\"Multiplication\" , (n*m))\n",
    "print(\"Division\" , (n/m))"
   ]
  },
  {
   "cell_type": "code",
   "execution_count": 2,
   "id": "cd2dcb75-29b8-4607-83b0-555a53226537",
   "metadata": {},
   "outputs": [
    {
     "name": "stdin",
     "output_type": "stream",
     "text": [
      "Enter Your First Name Vishal\n",
      "Enter Your Second Name Tomar\n"
     ]
    },
    {
     "name": "stdout",
     "output_type": "stream",
     "text": [
      "Hello, Vishal Tomar! Welcome to the Python Program.\n"
     ]
    }
   ],
   "source": [
    "fname = input (\"Enter Your First Name\")\n",
    "lname = input (\"Enter Your Second Name\")\n",
    "print(f\"Hello, {fname} {lname}! Welcome to the Python Program.\")"
   ]
  },
  {
   "cell_type": "code",
   "execution_count": null,
   "id": "d3d641f1-b571-48b8-89ea-f5814a3c4d7c",
   "metadata": {},
   "outputs": [],
   "source": []
  }
 ],
 "metadata": {
  "kernelspec": {
   "display_name": "Python [conda env:base] *",
   "language": "python",
   "name": "conda-base-py"
  },
  "language_info": {
   "codemirror_mode": {
    "name": "ipython",
    "version": 3
   },
   "file_extension": ".py",
   "mimetype": "text/x-python",
   "name": "python",
   "nbconvert_exporter": "python",
   "pygments_lexer": "ipython3",
   "version": "3.12.7"
  }
 },
 "nbformat": 4,
 "nbformat_minor": 5
}
